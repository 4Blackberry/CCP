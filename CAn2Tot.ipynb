{
  "nbformat": 4,
  "nbformat_minor": 0,
  "metadata": {
    "colab": {
      "name": "Untitled0.ipynb",
      "provenance": [],
      "authorship_tag": "ABX9TyPJs5orIBpEKQKg6m4gjphO",
      "include_colab_link": true
    },
    "kernelspec": {
      "name": "python3",
      "display_name": "Python 3"
    }
  },
  "cells": [
    {
      "cell_type": "markdown",
      "metadata": {
        "id": "view-in-github",
        "colab_type": "text"
      },
      "source": [
        "<a href=\"https://colab.research.google.com/github/4Blackberry/CCP/blob/master/CAn2Tot.ipynb\" target=\"_parent\"><img src=\"https://colab.research.google.com/assets/colab-badge.svg\" alt=\"Open In Colab\"/></a>"
      ]
    },
    {
      "cell_type": "code",
      "metadata": {
        "id": "9lhFlroKpfyX",
        "colab_type": "code",
        "colab": {
          "base_uri": "https://localhost:8080/",
          "height": 544
        },
        "outputId": "c5d158f0-5607-4d5f-d8f2-a74e04279b45"
      },
      "source": [
        "\"\"\"\n",
        "  Inspired by code of Mark VandeWettering.\n",
        "    https://brainwagon.org/2015/07/09/one-dimensional-cellular-automata-code-in-python/\n",
        "  \n",
        "  Written by Ties van Essen and Sofie Van den Braembussche.\n",
        "\n",
        "  Cellular Automaton, n = 2, totalistic.\n",
        "\"\"\"\n",
        "\n",
        "import sys\n",
        "import random\n",
        "from colorama import Fore\n",
        "\n",
        "width = 49\n",
        "time = 30\n",
        "neighbourhood = 3\n",
        "# rule is in the range [0, 2**(neighbourhood + 1]\n",
        "rule = 5\n",
        "\n",
        "w = width * [0]\n",
        "nw = width * [0]\n",
        "\n",
        "for i in range(width):\n",
        "  w[i] = random.randint(0, 1)\n",
        "\n",
        "# rtab is space for the rule table.  It maps all\n",
        "# numbers from [0, 2**neighbourhood] to either a 0 or 1.\n",
        "# So if neighbourhood = 3, rtab = [0, 0, 0, 0, 0, 0, 0, 0].\n",
        "rtab = (neighbourhood + 1) * [0] # neighbourhood + 1 -> 0 - neighbourhood\n",
        "\n",
        "# code takes the rule in binary, and turns it around.\n",
        "for i in range(neighbourhood + 1):\n",
        "    if ((2**i) & rule) != 0:\n",
        "        rtab[i] = 1\n",
        "\n",
        "# Potentially change this to coloured squares.\n",
        "# It is the lattice.\n",
        "def lattice(r):\n",
        "    for x in r:\n",
        "        if x == 1:\n",
        "            sys.stdout.write(Fore.BLACK + u\"\\u2588\")\n",
        "        else:\n",
        "            sys.stdout.write(Fore.WHITE + u\"\\u2588\")\n",
        "    sys.stdout.write('\\n')\n",
        "\n",
        "# And this is the time.\n",
        "for t in range(time):\n",
        "    lattice(w)\n",
        "    for x in range(width):\n",
        "        sum = 0\n",
        "        for d in range(neighbourhood):\n",
        "            sum = sum + w[(x + d + width - int(neighbourhood/2)) % width] # f.e: 0, 1, 0 -> sum = 1\n",
        "        nw[x] = rtab[sum]\n",
        "    w, nw = nw, w"
      ],
      "execution_count": 27,
      "outputs": [
        {
          "output_type": "stream",
          "text": [
            "Requirement already satisfied: colorama in /usr/local/lib/python3.6/dist-packages (0.4.3)\n",
            "\u001b[30m█\u001b[30m█\u001b[37m█\u001b[37m█\u001b[30m█\u001b[37m█\u001b[37m█\u001b[37m█\u001b[30m█\u001b[37m█\u001b[37m█\u001b[37m█\u001b[30m█\u001b[30m█\u001b[30m█\u001b[37m█\u001b[37m█\u001b[37m█\u001b[37m█\u001b[30m█\u001b[37m█\u001b[37m█\u001b[30m█\u001b[37m█\u001b[37m█\u001b[30m█\u001b[37m█\u001b[30m█\u001b[37m█\u001b[30m█\u001b[37m█\u001b[37m█\u001b[30m█\u001b[30m█\u001b[30m█\u001b[30m█\u001b[37m█\u001b[37m█\u001b[30m█\u001b[30m█\u001b[37m█\u001b[30m█\u001b[30m█\u001b[37m█\u001b[37m█\u001b[30m█\u001b[37m█\u001b[37m█\u001b[30m█\n",
            "\u001b[37m█\u001b[30m█\u001b[37m█\u001b[37m█\u001b[37m█\u001b[37m█\u001b[30m█\u001b[37m█\u001b[37m█\u001b[37m█\u001b[30m█\u001b[37m█\u001b[30m█\u001b[37m█\u001b[30m█\u001b[37m█\u001b[30m█\u001b[30m█\u001b[37m█\u001b[37m█\u001b[37m█\u001b[37m█\u001b[37m█\u001b[37m█\u001b[37m█\u001b[37m█\u001b[30m█\u001b[37m█\u001b[30m█\u001b[37m█\u001b[37m█\u001b[37m█\u001b[30m█\u001b[37m█\u001b[37m█\u001b[30m█\u001b[37m█\u001b[37m█\u001b[30m█\u001b[30m█\u001b[30m█\u001b[30m█\u001b[30m█\u001b[37m█\u001b[37m█\u001b[37m█\u001b[37m█\u001b[37m█\u001b[30m█\n",
            "\u001b[30m█\u001b[37m█\u001b[37m█\u001b[30m█\u001b[30m█\u001b[37m█\u001b[37m█\u001b[37m█\u001b[30m█\u001b[37m█\u001b[37m█\u001b[30m█\u001b[37m█\u001b[30m█\u001b[37m█\u001b[30m█\u001b[30m█\u001b[30m█\u001b[37m█\u001b[30m█\u001b[30m█\u001b[30m█\u001b[30m█\u001b[30m█\u001b[30m█\u001b[37m█\u001b[37m█\u001b[30m█\u001b[37m█\u001b[37m█\u001b[30m█\u001b[37m█\u001b[37m█\u001b[37m█\u001b[37m█\u001b[37m█\u001b[37m█\u001b[37m█\u001b[30m█\u001b[37m█\u001b[37m█\u001b[37m█\u001b[30m█\u001b[37m█\u001b[30m█\u001b[30m█\u001b[30m█\u001b[37m█\u001b[37m█\n",
            "\u001b[37m█\u001b[37m█\u001b[37m█\u001b[30m█\u001b[30m█\u001b[37m█\u001b[30m█\u001b[37m█\u001b[37m█\u001b[37m█\u001b[37m█\u001b[37m█\u001b[30m█\u001b[37m█\u001b[30m█\u001b[30m█\u001b[37m█\u001b[30m█\u001b[30m█\u001b[30m█\u001b[37m█\u001b[37m█\u001b[37m█\u001b[37m█\u001b[30m█\u001b[37m█\u001b[37m█\u001b[37m█\u001b[37m█\u001b[37m█\u001b[37m█\u001b[37m█\u001b[30m█\u001b[30m█\u001b[30m█\u001b[30m█\u001b[30m█\u001b[37m█\u001b[37m█\u001b[37m█\u001b[30m█\u001b[37m█\u001b[37m█\u001b[30m█\u001b[30m█\u001b[37m█\u001b[30m█\u001b[37m█\u001b[37m█\n",
            "\u001b[30m█\u001b[30m█\u001b[37m█\u001b[30m█\u001b[30m█\u001b[30m█\u001b[37m█\u001b[37m█\u001b[30m█\u001b[30m█\u001b[30m█\u001b[37m█\u001b[37m█\u001b[30m█\u001b[30m█\u001b[30m█\u001b[30m█\u001b[30m█\u001b[37m█\u001b[30m█\u001b[37m█\u001b[30m█\u001b[30m█\u001b[37m█\u001b[37m█\u001b[37m█\u001b[30m█\u001b[30m█\u001b[30m█\u001b[30m█\u001b[30m█\u001b[37m█\u001b[30m█\u001b[37m█\u001b[37m█\u001b[37m█\u001b[30m█\u001b[37m█\u001b[30m█\u001b[37m█\u001b[37m█\u001b[37m█\u001b[37m█\u001b[30m█\u001b[30m█\u001b[30m█\u001b[37m█\u001b[37m█\u001b[30m█\n",
            "\u001b[37m█\u001b[30m█\u001b[30m█\u001b[30m█\u001b[37m█\u001b[30m█\u001b[37m█\u001b[37m█\u001b[30m█\u001b[37m█\u001b[30m█\u001b[37m█\u001b[37m█\u001b[30m█\u001b[37m█\u001b[37m█\u001b[37m█\u001b[30m█\u001b[30m█\u001b[37m█\u001b[30m█\u001b[30m█\u001b[30m█\u001b[37m█\u001b[30m█\u001b[37m█\u001b[30m█\u001b[37m█\u001b[37m█\u001b[37m█\u001b[30m█\u001b[30m█\u001b[37m█\u001b[37m█\u001b[30m█\u001b[37m█\u001b[37m█\u001b[30m█\u001b[37m█\u001b[37m█\u001b[30m█\u001b[30m█\u001b[37m█\u001b[30m█\u001b[37m█\u001b[30m█\u001b[37m█\u001b[37m█\u001b[30m█\n",
            "\u001b[30m█\u001b[30m█\u001b[37m█\u001b[30m█\u001b[30m█\u001b[37m█\u001b[37m█\u001b[37m█\u001b[37m█\u001b[30m█\u001b[37m█\u001b[37m█\u001b[37m█\u001b[37m█\u001b[37m█\u001b[30m█\u001b[37m█\u001b[30m█\u001b[30m█\u001b[30m█\u001b[30m█\u001b[37m█\u001b[30m█\u001b[30m█\u001b[37m█\u001b[30m█\u001b[37m█\u001b[37m█\u001b[30m█\u001b[37m█\u001b[30m█\u001b[30m█\u001b[37m█\u001b[37m█\u001b[37m█\u001b[37m█\u001b[37m█\u001b[37m█\u001b[37m█\u001b[37m█\u001b[30m█\u001b[30m█\u001b[30m█\u001b[37m█\u001b[30m█\u001b[37m█\u001b[37m█\u001b[37m█\u001b[37m█\n",
            "\u001b[30m█\u001b[30m█\u001b[30m█\u001b[30m█\u001b[30m█\u001b[37m█\u001b[30m█\u001b[30m█\u001b[37m█\u001b[37m█\u001b[37m█\u001b[30m█\u001b[30m█\u001b[30m█\u001b[37m█\u001b[37m█\u001b[30m█\u001b[30m█\u001b[37m█\u001b[37m█\u001b[30m█\u001b[30m█\u001b[30m█\u001b[30m█\u001b[30m█\u001b[37m█\u001b[37m█\u001b[37m█\u001b[37m█\u001b[30m█\u001b[30m█\u001b[30m█\u001b[37m█\u001b[30m█\u001b[30m█\u001b[30m█\u001b[30m█\u001b[30m█\u001b[30m█\u001b[37m█\u001b[30m█\u001b[37m█\u001b[30m█\u001b[30m█\u001b[37m█\u001b[37m█\u001b[30m█\u001b[30m█\u001b[37m█\n",
            "\u001b[30m█\u001b[37m█\u001b[37m█\u001b[37m█\u001b[30m█\u001b[30m█\u001b[30m█\u001b[30m█\u001b[37m█\u001b[30m█\u001b[37m█\u001b[30m█\u001b[37m█\u001b[30m█\u001b[37m█\u001b[37m█\u001b[30m█\u001b[30m█\u001b[37m█\u001b[37m█\u001b[30m█\u001b[37m█\u001b[37m█\u001b[37m█\u001b[30m█\u001b[37m█\u001b[30m█\u001b[30m█\u001b[37m█\u001b[30m█\u001b[37m█\u001b[30m█\u001b[30m█\u001b[30m█\u001b[37m█\u001b[37m█\u001b[37m█\u001b[37m█\u001b[30m█\u001b[30m█\u001b[37m█\u001b[30m█\u001b[30m█\u001b[30m█\u001b[37m█\u001b[37m█\u001b[30m█\u001b[30m█\u001b[30m█\n",
            "\u001b[30m█\u001b[37m█\u001b[30m█\u001b[37m█\u001b[30m█\u001b[37m█\u001b[37m█\u001b[30m█\u001b[30m█\u001b[37m█\u001b[30m█\u001b[37m█\u001b[30m█\u001b[37m█\u001b[37m█\u001b[37m█\u001b[30m█\u001b[30m█\u001b[37m█\u001b[37m█\u001b[37m█\u001b[37m█\u001b[30m█\u001b[37m█\u001b[37m█\u001b[30m█\u001b[30m█\u001b[30m█\u001b[30m█\u001b[37m█\u001b[30m█\u001b[30m█\u001b[37m█\u001b[30m█\u001b[37m█\u001b[30m█\u001b[30m█\u001b[37m█\u001b[30m█\u001b[30m█\u001b[30m█\u001b[30m█\u001b[37m█\u001b[30m█\u001b[37m█\u001b[37m█\u001b[30m█\u001b[37m█\u001b[37m█\n",
            "\u001b[37m█\u001b[30m█\u001b[37m█\u001b[30m█\u001b[37m█\u001b[37m█\u001b[37m█\u001b[30m█\u001b[30m█\u001b[30m█\u001b[37m█\u001b[30m█\u001b[37m█\u001b[37m█\u001b[30m█\u001b[37m█\u001b[30m█\u001b[30m█\u001b[37m█\u001b[30m█\u001b[30m█\u001b[37m█\u001b[37m█\u001b[37m█\u001b[37m█\u001b[30m█\u001b[37m█\u001b[37m█\u001b[30m█\u001b[30m█\u001b[30m█\u001b[30m█\u001b[30m█\u001b[37m█\u001b[30m█\u001b[30m█\u001b[30m█\u001b[30m█\u001b[30m█\u001b[37m█\u001b[37m█\u001b[30m█\u001b[30m█\u001b[37m█\u001b[37m█\u001b[37m█\u001b[37m█\u001b[37m█\u001b[37m█\n",
            "\u001b[37m█\u001b[37m█\u001b[30m█\u001b[37m█\u001b[37m█\u001b[30m█\u001b[37m█\u001b[30m█\u001b[37m█\u001b[30m█\u001b[30m█\u001b[37m█\u001b[37m█\u001b[37m█\u001b[37m█\u001b[30m█\u001b[30m█\u001b[30m█\u001b[30m█\u001b[30m█\u001b[30m█\u001b[37m█\u001b[30m█\u001b[30m█\u001b[37m█\u001b[37m█\u001b[37m█\u001b[37m█\u001b[30m█\u001b[37m█\u001b[37m█\u001b[37m█\u001b[30m█\u001b[30m█\u001b[30m█\u001b[37m█\u001b[37m█\u001b[37m█\u001b[30m█\u001b[37m█\u001b[37m█\u001b[30m█\u001b[30m█\u001b[37m█\u001b[30m█\u001b[30m█\u001b[30m█\u001b[30m█\u001b[30m█\n",
            "\u001b[37m█\u001b[37m█\u001b[37m█\u001b[37m█\u001b[37m█\u001b[37m█\u001b[30m█\u001b[37m█\u001b[30m█\u001b[30m█\u001b[30m█\u001b[37m█\u001b[30m█\u001b[30m█\u001b[37m█\u001b[30m█\u001b[37m█\u001b[37m█\u001b[37m█\u001b[37m█\u001b[30m█\u001b[30m█\u001b[30m█\u001b[30m█\u001b[37m█\u001b[30m█\u001b[30m█\u001b[37m█\u001b[37m█\u001b[37m█\u001b[30m█\u001b[37m█\u001b[30m█\u001b[37m█\u001b[30m█\u001b[37m█\u001b[30m█\u001b[37m█\u001b[37m█\u001b[37m█\u001b[37m█\u001b[30m█\u001b[30m█\u001b[30m█\u001b[30m█\u001b[37m█\u001b[37m█\u001b[37m█\u001b[30m█\n",
            "\u001b[37m█\u001b[30m█\u001b[30m█\u001b[30m█\u001b[30m█\u001b[37m█\u001b[37m█\u001b[30m█\u001b[30m█\u001b[37m█\u001b[30m█\u001b[30m█\u001b[30m█\u001b[30m█\u001b[30m█\u001b[37m█\u001b[37m█\u001b[30m█\u001b[30m█\u001b[37m█\u001b[30m█\u001b[37m█\u001b[37m█\u001b[30m█\u001b[30m█\u001b[30m█\u001b[30m█\u001b[37m█\u001b[30m█\u001b[37m█\u001b[37m█\u001b[30m█\u001b[37m█\u001b[30m█\u001b[37m█\u001b[30m█\u001b[37m█\u001b[37m█\u001b[30m█\u001b[30m█\u001b[37m█\u001b[30m█\u001b[37m█\u001b[37m█\u001b[30m█\u001b[37m█\u001b[30m█\u001b[37m█\u001b[37m█\n",
            "\u001b[37m█\u001b[30m█\u001b[37m█\u001b[37m█\u001b[30m█\u001b[37m█\u001b[37m█\u001b[30m█\u001b[30m█\u001b[30m█\u001b[30m█\u001b[37m█\u001b[37m█\u001b[37m█\u001b[30m█\u001b[37m█\u001b[37m█\u001b[30m█\u001b[30m█\u001b[30m█\u001b[37m█\u001b[37m█\u001b[37m█\u001b[30m█\u001b[37m█\u001b[37m█\u001b[30m█\u001b[30m█\u001b[37m█\u001b[37m█\u001b[37m█\u001b[37m█\u001b[30m█\u001b[37m█\u001b[30m█\u001b[37m█\u001b[37m█\u001b[37m█\u001b[30m█\u001b[30m█\u001b[30m█\u001b[37m█\u001b[37m█\u001b[37m█\u001b[37m█\u001b[30m█\u001b[37m█\u001b[37m█\u001b[30m█\n",
            "\u001b[30m█\u001b[37m█\u001b[37m█\u001b[37m█\u001b[37m█\u001b[37m█\u001b[37m█\u001b[30m█\u001b[37m█\u001b[37m█\u001b[30m█\u001b[37m█\u001b[30m█\u001b[37m█\u001b[37m█\u001b[37m█\u001b[37m█\u001b[30m█\u001b[37m█\u001b[30m█\u001b[37m█\u001b[30m█\u001b[37m█\u001b[37m█\u001b[37m█\u001b[37m█\u001b[30m█\u001b[30m█\u001b[37m█\u001b[30m█\u001b[30m█\u001b[37m█\u001b[37m█\u001b[30m█\u001b[37m█\u001b[37m█\u001b[30m█\u001b[37m█\u001b[30m█\u001b[37m█\u001b[30m█\u001b[37m█\u001b[30m█\u001b[30m█\u001b[37m█\u001b[37m█\u001b[37m█\u001b[37m█\u001b[37m█\n",
            "\u001b[37m█\u001b[37m█\u001b[30m█\u001b[30m█\u001b[30m█\u001b[30m█\u001b[37m█\u001b[37m█\u001b[37m█\u001b[37m█\u001b[37m█\u001b[30m█\u001b[37m█\u001b[37m█\u001b[30m█\u001b[30m█\u001b[37m█\u001b[37m█\u001b[30m█\u001b[37m█\u001b[30m█\u001b[37m█\u001b[37m█\u001b[30m█\u001b[30m█\u001b[37m█\u001b[30m█\u001b[30m█\u001b[30m█\u001b[30m█\u001b[30m█\u001b[37m█\u001b[37m█\u001b[37m█\u001b[37m█\u001b[37m█\u001b[37m█\u001b[30m█\u001b[37m█\u001b[30m█\u001b[37m█\u001b[30m█\u001b[30m█\u001b[30m█\u001b[37m█\u001b[30m█\u001b[30m█\u001b[30m█\u001b[37m█\n",
            "\u001b[30m█\u001b[37m█\u001b[30m█\u001b[37m█\u001b[37m█\u001b[30m█\u001b[37m█\u001b[30m█\u001b[30m█\u001b[30m█\u001b[37m█\u001b[37m█\u001b[37m█\u001b[37m█\u001b[30m█\u001b[30m█\u001b[37m█\u001b[37m█\u001b[37m█\u001b[30m█\u001b[37m█\u001b[37m█\u001b[37m█\u001b[30m█\u001b[30m█\u001b[30m█\u001b[30m█\u001b[37m█\u001b[37m█\u001b[37m█\u001b[30m█\u001b[37m█\u001b[30m█\u001b[30m█\u001b[30m█\u001b[30m█\u001b[37m█\u001b[37m█\u001b[30m█\u001b[37m█\u001b[30m█\u001b[30m█\u001b[37m█\u001b[30m█\u001b[30m█\u001b[30m█\u001b[37m█\u001b[30m█\u001b[37m█\n",
            "\u001b[37m█\u001b[30m█\u001b[37m█\u001b[37m█\u001b[37m█\u001b[37m█\u001b[30m█\u001b[30m█\u001b[37m█\u001b[30m█\u001b[37m█\u001b[30m█\u001b[30m█\u001b[37m█\u001b[30m█\u001b[30m█\u001b[37m█\u001b[30m█\u001b[37m█\u001b[37m█\u001b[37m█\u001b[30m█\u001b[37m█\u001b[30m█\u001b[37m█\u001b[37m█\u001b[30m█\u001b[37m█\u001b[30m█\u001b[37m█\u001b[37m█\u001b[30m█\u001b[30m█\u001b[37m█\u001b[37m█\u001b[30m█\u001b[37m█\u001b[37m█\u001b[37m█\u001b[30m█\u001b[30m█\u001b[30m█\u001b[30m█\u001b[30m█\u001b[37m█\u001b[30m█\u001b[30m█\u001b[37m█\u001b[30m█\n",
            "\u001b[30m█\u001b[37m█\u001b[37m█\u001b[30m█\u001b[30m█\u001b[37m█\u001b[30m█\u001b[30m█\u001b[30m█\u001b[37m█\u001b[30m█\u001b[30m█\u001b[30m█\u001b[30m█\u001b[30m█\u001b[30m█\u001b[30m█\u001b[37m█\u001b[37m█\u001b[30m█\u001b[37m█\u001b[37m█\u001b[30m█\u001b[37m█\u001b[37m█\u001b[37m█\u001b[37m█\u001b[30m█\u001b[37m█\u001b[37m█\u001b[37m█\u001b[30m█\u001b[30m█\u001b[37m█\u001b[37m█\u001b[37m█\u001b[37m█\u001b[30m█\u001b[37m█\u001b[30m█\u001b[37m█\u001b[37m█\u001b[37m█\u001b[30m█\u001b[30m█\u001b[30m█\u001b[30m█\u001b[30m█\u001b[37m█\n",
            "\u001b[37m█\u001b[37m█\u001b[37m█\u001b[30m█\u001b[30m█\u001b[30m█\u001b[30m█\u001b[37m█\u001b[30m█\u001b[30m█\u001b[30m█\u001b[37m█\u001b[37m█\u001b[37m█\u001b[37m█\u001b[37m█\u001b[30m█\u001b[37m█\u001b[37m█\u001b[37m█\u001b[37m█\u001b[37m█\u001b[37m█\u001b[37m█\u001b[30m█\u001b[30m█\u001b[37m█\u001b[37m█\u001b[37m█\u001b[30m█\u001b[37m█\u001b[30m█\u001b[30m█\u001b[37m█\u001b[30m█\u001b[30m█\u001b[37m█\u001b[37m█\u001b[30m█\u001b[37m█\u001b[37m█\u001b[30m█\u001b[37m█\u001b[30m█\u001b[37m█\u001b[37m█\u001b[37m█\u001b[30m█\u001b[30m█\n",
            "\u001b[37m█\u001b[30m█\u001b[37m█\u001b[30m█\u001b[37m█\u001b[37m█\u001b[30m█\u001b[30m█\u001b[30m█\u001b[37m█\u001b[30m█\u001b[37m█\u001b[30m█\u001b[30m█\u001b[30m█\u001b[37m█\u001b[37m█\u001b[37m█\u001b[30m█\u001b[30m█\u001b[30m█\u001b[30m█\u001b[30m█\u001b[37m█\u001b[30m█\u001b[30m█\u001b[37m█\u001b[30m█\u001b[37m█\u001b[37m█\u001b[30m█\u001b[30m█\u001b[30m█\u001b[30m█\u001b[30m█\u001b[30m█\u001b[37m█\u001b[37m█\u001b[37m█\u001b[37m█\u001b[37m█\u001b[37m█\u001b[30m█\u001b[37m█\u001b[37m█\u001b[30m█\u001b[37m█\u001b[30m█\u001b[30m█\n",
            "\u001b[30m█\u001b[37m█\u001b[30m█\u001b[37m█\u001b[37m█\u001b[37m█\u001b[30m█\u001b[37m█\u001b[30m█\u001b[30m█\u001b[37m█\u001b[30m█\u001b[30m█\u001b[37m█\u001b[30m█\u001b[37m█\u001b[30m█\u001b[37m█\u001b[30m█\u001b[37m█\u001b[37m█\u001b[37m█\u001b[30m█\u001b[30m█\u001b[30m█\u001b[30m█\u001b[30m█\u001b[37m█\u001b[37m█\u001b[37m█\u001b[30m█\u001b[37m█\u001b[37m█\u001b[37m█\u001b[37m█\u001b[30m█\u001b[37m█\u001b[30m█\u001b[30m█\u001b[30m█\u001b[30m█\u001b[37m█\u001b[37m█\u001b[37m█\u001b[37m█\u001b[37m█\u001b[30m█\u001b[30m█\u001b[30m█\n",
            "\u001b[30m█\u001b[30m█\u001b[37m█\u001b[37m█\u001b[30m█\u001b[37m█\u001b[37m█\u001b[30m█\u001b[30m█\u001b[30m█\u001b[30m█\u001b[30m█\u001b[30m█\u001b[30m█\u001b[37m█\u001b[30m█\u001b[37m█\u001b[30m█\u001b[37m█\u001b[37m█\u001b[30m█\u001b[37m█\u001b[30m█\u001b[37m█\u001b[37m█\u001b[37m█\u001b[30m█\u001b[37m█\u001b[30m█\u001b[37m█\u001b[37m█\u001b[37m█\u001b[30m█\u001b[30m█\u001b[37m█\u001b[37m█\u001b[30m█\u001b[30m█\u001b[37m█\u001b[37m█\u001b[30m█\u001b[37m█\u001b[30m█\u001b[30m█\u001b[30m█\u001b[37m█\u001b[30m█\u001b[37m█\u001b[37m█\n",
            "\u001b[30m█\u001b[30m█\u001b[37m█\u001b[37m█\u001b[37m█\u001b[37m█\u001b[37m█\u001b[30m█\u001b[37m█\u001b[37m█\u001b[37m█\u001b[37m█\u001b[37m█\u001b[30m█\u001b[30m█\u001b[37m█\u001b[30m█\u001b[37m█\u001b[37m█\u001b[37m█\u001b[37m█\u001b[30m█\u001b[37m█\u001b[37m█\u001b[30m█\u001b[37m█\u001b[37m█\u001b[30m█\u001b[37m█\u001b[37m█\u001b[30m█\u001b[37m█\u001b[30m█\u001b[30m█\u001b[37m█\u001b[37m█\u001b[30m█\u001b[30m█\u001b[37m█\u001b[37m█\u001b[37m█\u001b[30m█\u001b[30m█\u001b[37m█\u001b[30m█\u001b[30m█\u001b[37m█\u001b[37m█\u001b[37m█\n",
            "\u001b[30m█\u001b[30m█\u001b[37m█\u001b[30m█\u001b[30m█\u001b[30m█\u001b[37m█\u001b[37m█\u001b[37m█\u001b[30m█\u001b[30m█\u001b[30m█\u001b[37m█\u001b[30m█\u001b[30m█\u001b[30m█\u001b[37m█\u001b[37m█\u001b[30m█\u001b[30m█\u001b[37m█\u001b[37m█\u001b[37m█\u001b[37m█\u001b[37m█\u001b[37m█\u001b[37m█\u001b[37m█\u001b[37m█\u001b[37m█\u001b[37m█\u001b[30m█\u001b[30m█\u001b[30m█\u001b[37m█\u001b[37m█\u001b[30m█\u001b[30m█\u001b[37m█\u001b[30m█\u001b[37m█\u001b[30m█\u001b[30m█\u001b[30m█\u001b[30m█\u001b[30m█\u001b[37m█\u001b[30m█\u001b[37m█\n",
            "\u001b[30m█\u001b[30m█\u001b[30m█\u001b[30m█\u001b[37m█\u001b[30m█\u001b[37m█\u001b[30m█\u001b[37m█\u001b[30m█\u001b[37m█\u001b[30m█\u001b[30m█\u001b[30m█\u001b[37m█\u001b[30m█\u001b[37m█\u001b[37m█\u001b[30m█\u001b[30m█\u001b[37m█\u001b[30m█\u001b[30m█\u001b[30m█\u001b[30m█\u001b[30m█\u001b[30m█\u001b[30m█\u001b[30m█\u001b[30m█\u001b[37m█\u001b[30m█\u001b[37m█\u001b[30m█\u001b[37m█\u001b[37m█\u001b[30m█\u001b[30m█\u001b[30m█\u001b[37m█\u001b[30m█\u001b[30m█\u001b[37m█\u001b[37m█\u001b[37m█\u001b[30m█\u001b[30m█\u001b[37m█\u001b[30m█\n",
            "\u001b[37m█\u001b[37m█\u001b[37m█\u001b[30m█\u001b[30m█\u001b[37m█\u001b[30m█\u001b[37m█\u001b[30m█\u001b[37m█\u001b[30m█\u001b[30m█\u001b[37m█\u001b[30m█\u001b[30m█\u001b[37m█\u001b[37m█\u001b[37m█\u001b[30m█\u001b[30m█\u001b[30m█\u001b[30m█\u001b[37m█\u001b[37m█\u001b[37m█\u001b[37m█\u001b[37m█\u001b[37m█\u001b[37m█\u001b[30m█\u001b[30m█\u001b[37m█\u001b[30m█\u001b[37m█\u001b[37m█\u001b[37m█\u001b[30m█\u001b[37m█\u001b[30m█\u001b[30m█\u001b[30m█\u001b[30m█\u001b[37m█\u001b[30m█\u001b[37m█\u001b[30m█\u001b[30m█\u001b[30m█\u001b[30m█\n",
            "\u001b[37m█\u001b[30m█\u001b[37m█\u001b[30m█\u001b[30m█\u001b[30m█\u001b[37m█\u001b[30m█\u001b[37m█\u001b[30m█\u001b[30m█\u001b[30m█\u001b[30m█\u001b[30m█\u001b[30m█\u001b[37m█\u001b[30m█\u001b[37m█\u001b[30m█\u001b[37m█\u001b[37m█\u001b[30m█\u001b[37m█\u001b[30m█\u001b[30m█\u001b[30m█\u001b[30m█\u001b[30m█\u001b[37m█\u001b[30m█\u001b[30m█\u001b[30m█\u001b[37m█\u001b[37m█\u001b[30m█\u001b[37m█\u001b[37m█\u001b[30m█\u001b[30m█\u001b[37m█\u001b[37m█\u001b[30m█\u001b[30m█\u001b[37m█\u001b[30m█\u001b[30m█\u001b[37m█\u001b[37m█\u001b[30m█\n",
            "\u001b[30m█\u001b[37m█\u001b[30m█\u001b[30m█\u001b[37m█\u001b[30m█\u001b[30m█\u001b[37m█\u001b[30m█\u001b[30m█\u001b[37m█\u001b[37m█\u001b[37m█\u001b[37m█\u001b[30m█\u001b[30m█\u001b[37m█\u001b[30m█\u001b[37m█\u001b[37m█\u001b[37m█\u001b[37m█\u001b[30m█\u001b[30m█\u001b[37m█\u001b[37m█\u001b[37m█\u001b[30m█\u001b[30m█\u001b[30m█\u001b[37m█\u001b[30m█\u001b[37m█\u001b[37m█\u001b[37m█\u001b[37m█\u001b[37m█\u001b[30m█\u001b[30m█\u001b[37m█\u001b[37m█\u001b[30m█\u001b[30m█\u001b[30m█\u001b[30m█\u001b[30m█\u001b[37m█\u001b[37m█\u001b[37m█\n"
          ],
          "name": "stdout"
        }
      ]
    }
  ]
}
